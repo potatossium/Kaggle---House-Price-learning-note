{
 "cells": [
  {
   "cell_type": "code",
   "execution_count": 1,
   "metadata": {},
   "outputs": [],
   "source": [
    "import numpy as np\n",
    "import pandas as pd\n",
    "import matplotlib.pyplot as plt\n",
    "%matplotlib inline\n",
    "\n",
    "import warnings\n",
    "warnings.filterwarnings(\"ignore\")"
   ]
  },
  {
   "cell_type": "code",
   "execution_count": 2,
   "metadata": {},
   "outputs": [],
   "source": [
    "train = pd.read_csv(\"Desktop/dataset/house_price/train.csv\")\n",
    "test = pd.read_csv(\"Desktop/dataset/house_price/test.csv\")"
   ]
  },
  {
   "cell_type": "code",
   "execution_count": 7,
   "metadata": {
    "scrolled": true
   },
   "outputs": [
    {
     "data": {
      "text/plain": [
       "(2919, 81)"
      ]
     },
     "execution_count": 7,
     "metadata": {},
     "output_type": "execute_result"
    }
   ],
   "source": [
    "# 将训练集和测试集拼接起来，同时进行特征处理变换\n",
    "full = pd.concat([train,test], ignore_index=True)\n",
    "full.shape"
   ]
  },
  {
   "cell_type": "markdown",
   "metadata": {},
   "source": [
    "### 1. 初步建模(primitive modelization)\n",
    "    我们先粗略将数据清洗一遍，用模型拟合得到初步的房价预测结果。"
   ]
  },
  {
   "cell_type": "code",
   "execution_count": 8,
   "metadata": {
    "scrolled": true
   },
   "outputs": [
    {
     "data": {
      "text/html": [
       "<div>\n",
       "<style scoped>\n",
       "    .dataframe tbody tr th:only-of-type {\n",
       "        vertical-align: middle;\n",
       "    }\n",
       "\n",
       "    .dataframe tbody tr th {\n",
       "        vertical-align: top;\n",
       "    }\n",
       "\n",
       "    .dataframe thead th {\n",
       "        text-align: right;\n",
       "    }\n",
       "</style>\n",
       "<table border=\"1\" class=\"dataframe\">\n",
       "  <thead>\n",
       "    <tr style=\"text-align: right;\">\n",
       "      <th></th>\n",
       "      <th>null_nums</th>\n",
       "      <th>dtypes</th>\n",
       "    </tr>\n",
       "  </thead>\n",
       "  <tbody>\n",
       "    <tr>\n",
       "      <th>PoolQC</th>\n",
       "      <td>2909</td>\n",
       "      <td>object</td>\n",
       "    </tr>\n",
       "    <tr>\n",
       "      <th>MiscFeature</th>\n",
       "      <td>2814</td>\n",
       "      <td>object</td>\n",
       "    </tr>\n",
       "    <tr>\n",
       "      <th>Alley</th>\n",
       "      <td>2721</td>\n",
       "      <td>object</td>\n",
       "    </tr>\n",
       "    <tr>\n",
       "      <th>Fence</th>\n",
       "      <td>2348</td>\n",
       "      <td>object</td>\n",
       "    </tr>\n",
       "    <tr>\n",
       "      <th>SalePrice</th>\n",
       "      <td>1459</td>\n",
       "      <td>float64</td>\n",
       "    </tr>\n",
       "    <tr>\n",
       "      <th>FireplaceQu</th>\n",
       "      <td>1420</td>\n",
       "      <td>object</td>\n",
       "    </tr>\n",
       "    <tr>\n",
       "      <th>LotFrontage</th>\n",
       "      <td>486</td>\n",
       "      <td>float64</td>\n",
       "    </tr>\n",
       "    <tr>\n",
       "      <th>GarageFinish</th>\n",
       "      <td>159</td>\n",
       "      <td>object</td>\n",
       "    </tr>\n",
       "    <tr>\n",
       "      <th>GarageQual</th>\n",
       "      <td>159</td>\n",
       "      <td>object</td>\n",
       "    </tr>\n",
       "    <tr>\n",
       "      <th>GarageYrBlt</th>\n",
       "      <td>159</td>\n",
       "      <td>float64</td>\n",
       "    </tr>\n",
       "    <tr>\n",
       "      <th>GarageCond</th>\n",
       "      <td>159</td>\n",
       "      <td>object</td>\n",
       "    </tr>\n",
       "    <tr>\n",
       "      <th>GarageType</th>\n",
       "      <td>157</td>\n",
       "      <td>object</td>\n",
       "    </tr>\n",
       "    <tr>\n",
       "      <th>BsmtCond</th>\n",
       "      <td>82</td>\n",
       "      <td>object</td>\n",
       "    </tr>\n",
       "    <tr>\n",
       "      <th>BsmtExposure</th>\n",
       "      <td>82</td>\n",
       "      <td>object</td>\n",
       "    </tr>\n",
       "    <tr>\n",
       "      <th>BsmtQual</th>\n",
       "      <td>81</td>\n",
       "      <td>object</td>\n",
       "    </tr>\n",
       "    <tr>\n",
       "      <th>BsmtFinType2</th>\n",
       "      <td>80</td>\n",
       "      <td>object</td>\n",
       "    </tr>\n",
       "    <tr>\n",
       "      <th>BsmtFinType1</th>\n",
       "      <td>79</td>\n",
       "      <td>object</td>\n",
       "    </tr>\n",
       "    <tr>\n",
       "      <th>MasVnrType</th>\n",
       "      <td>24</td>\n",
       "      <td>object</td>\n",
       "    </tr>\n",
       "    <tr>\n",
       "      <th>MasVnrArea</th>\n",
       "      <td>23</td>\n",
       "      <td>float64</td>\n",
       "    </tr>\n",
       "    <tr>\n",
       "      <th>MSZoning</th>\n",
       "      <td>4</td>\n",
       "      <td>object</td>\n",
       "    </tr>\n",
       "    <tr>\n",
       "      <th>Utilities</th>\n",
       "      <td>2</td>\n",
       "      <td>object</td>\n",
       "    </tr>\n",
       "    <tr>\n",
       "      <th>Functional</th>\n",
       "      <td>2</td>\n",
       "      <td>object</td>\n",
       "    </tr>\n",
       "    <tr>\n",
       "      <th>BsmtHalfBath</th>\n",
       "      <td>2</td>\n",
       "      <td>float64</td>\n",
       "    </tr>\n",
       "    <tr>\n",
       "      <th>BsmtFullBath</th>\n",
       "      <td>2</td>\n",
       "      <td>float64</td>\n",
       "    </tr>\n",
       "    <tr>\n",
       "      <th>GarageCars</th>\n",
       "      <td>1</td>\n",
       "      <td>float64</td>\n",
       "    </tr>\n",
       "    <tr>\n",
       "      <th>Exterior2nd</th>\n",
       "      <td>1</td>\n",
       "      <td>object</td>\n",
       "    </tr>\n",
       "    <tr>\n",
       "      <th>KitchenQual</th>\n",
       "      <td>1</td>\n",
       "      <td>object</td>\n",
       "    </tr>\n",
       "    <tr>\n",
       "      <th>Exterior1st</th>\n",
       "      <td>1</td>\n",
       "      <td>object</td>\n",
       "    </tr>\n",
       "    <tr>\n",
       "      <th>Electrical</th>\n",
       "      <td>1</td>\n",
       "      <td>object</td>\n",
       "    </tr>\n",
       "    <tr>\n",
       "      <th>BsmtUnfSF</th>\n",
       "      <td>1</td>\n",
       "      <td>float64</td>\n",
       "    </tr>\n",
       "    <tr>\n",
       "      <th>BsmtFinSF2</th>\n",
       "      <td>1</td>\n",
       "      <td>float64</td>\n",
       "    </tr>\n",
       "    <tr>\n",
       "      <th>BsmtFinSF1</th>\n",
       "      <td>1</td>\n",
       "      <td>float64</td>\n",
       "    </tr>\n",
       "    <tr>\n",
       "      <th>SaleType</th>\n",
       "      <td>1</td>\n",
       "      <td>object</td>\n",
       "    </tr>\n",
       "    <tr>\n",
       "      <th>TotalBsmtSF</th>\n",
       "      <td>1</td>\n",
       "      <td>float64</td>\n",
       "    </tr>\n",
       "    <tr>\n",
       "      <th>GarageArea</th>\n",
       "      <td>1</td>\n",
       "      <td>float64</td>\n",
       "    </tr>\n",
       "  </tbody>\n",
       "</table>\n",
       "</div>"
      ],
      "text/plain": [
       "             null_nums   dtypes\n",
       "PoolQC            2909   object\n",
       "MiscFeature       2814   object\n",
       "Alley             2721   object\n",
       "Fence             2348   object\n",
       "SalePrice         1459  float64\n",
       "FireplaceQu       1420   object\n",
       "LotFrontage        486  float64\n",
       "GarageFinish       159   object\n",
       "GarageQual         159   object\n",
       "GarageYrBlt        159  float64\n",
       "GarageCond         159   object\n",
       "GarageType         157   object\n",
       "BsmtCond            82   object\n",
       "BsmtExposure        82   object\n",
       "BsmtQual            81   object\n",
       "BsmtFinType2        80   object\n",
       "BsmtFinType1        79   object\n",
       "MasVnrType          24   object\n",
       "MasVnrArea          23  float64\n",
       "MSZoning             4   object\n",
       "Utilities            2   object\n",
       "Functional           2   object\n",
       "BsmtHalfBath         2  float64\n",
       "BsmtFullBath         2  float64\n",
       "GarageCars           1  float64\n",
       "Exterior2nd          1   object\n",
       "KitchenQual          1   object\n",
       "Exterior1st          1   object\n",
       "Electrical           1   object\n",
       "BsmtUnfSF            1  float64\n",
       "BsmtFinSF2           1  float64\n",
       "BsmtFinSF1           1  float64\n",
       "SaleType             1   object\n",
       "TotalBsmtSF          1  float64\n",
       "GarageArea           1  float64"
      ]
     },
     "execution_count": 8,
     "metadata": {},
     "output_type": "execute_result"
    }
   ],
   "source": [
    "# 观察缺失值特征分布的dtypes\n",
    "na_count = full.isnull().sum()\n",
    "na_chart = pd.DataFrame([na_count, full.dtypes]).T\n",
    "na_chart.columns = [\"null_nums\", \"dtypes\"]\n",
    "na_chart = na_chart[na_chart['null_nums']!=0]\n",
    "na_chart.sort_values(by='null_nums', ascending=False)"
   ]
  },
  {
   "cell_type": "code",
   "execution_count": 9,
   "metadata": {},
   "outputs": [],
   "source": [
    "# 根据不同dtype类型，填补缺失值  \n",
    "cols1 = [\"MasVnrArea\", \"BsmtUnfSF\", \"TotalBsmtSF\", \"GarageCars\", \"BsmtFinSF2\", \"BsmtFinSF1\", \"GarageArea\"]\n",
    "for col in cols1:\n",
    "    full[col].fillna(0, inplace=True)\n",
    "    \n",
    "cols2 = [\"LotFrontage\", \"GarageYrBlt\"]\n",
    "for col in cols2:\n",
    "    full[col].fillna(full[col].median(), inplace=True)\n",
    "\n",
    "cols3 = [\"MSZoning\", \"BsmtFullBath\", \"BsmtHalfBath\", \"Utilities\", \"Functional\", \"Electrical\", \"KitchenQual\", \"SaleType\",\"Exterior1st\", \"Exterior2nd\"]\n",
    "for col in cols3:\n",
    "    full[col].fillna(full[col].mode()[0], inplace=True)\n",
    "\n",
    "cols4 = [\"PoolQC\" , \"MiscFeature\", \"Alley\", \"Fence\", \"FireplaceQu\", \"GarageQual\", \"GarageCond\", \"GarageFinish\", \"GarageYrBlt\", \"GarageType\", \"BsmtExposure\", \"BsmtCond\", \"BsmtQual\", \"BsmtFinType2\", \"BsmtFinType1\", \"MasVnrType\"]\n",
    "for col in cols4:\n",
    "    full[col].fillna(\"None\", inplace=True)"
   ]
  },
  {
   "cell_type": "code",
   "execution_count": 10,
   "metadata": {
    "scrolled": false
   },
   "outputs": [
    {
     "data": {
      "text/plain": [
       "SalePrice    1459\n",
       "dtype: int64"
      ]
     },
     "execution_count": 10,
     "metadata": {},
     "output_type": "execute_result"
    }
   ],
   "source": [
    "# 只有test[\"SalePrice\"]有空缺值，填缺完毕\n",
    "full.isnull().sum()[full.isnull().sum()!=0]"
   ]
  },
  {
   "cell_type": "code",
   "execution_count": 11,
   "metadata": {},
   "outputs": [
    {
     "data": {
      "text/plain": [
       "(2919, 302)"
      ]
     },
     "execution_count": 11,
     "metadata": {},
     "output_type": "execute_result"
    }
   ],
   "source": [
    "# 独热编码(One-hot Encoding)，将Object对象转换为0-1矩阵\n",
    "full2 = pd.get_dummies(full.drop([\"Id\",\"SalePrice\"], axis=1))\n",
    "full2.shape"
   ]
  },
  {
   "cell_type": "code",
   "execution_count": 12,
   "metadata": {},
   "outputs": [],
   "source": [
    "from sklearn import preprocessing\n",
    "from sklearn.metrics import mean_squared_error\n",
    "from sklearn.decomposition import PCA, KernelPCA"
   ]
  },
  {
   "cell_type": "code",
   "execution_count": 13,
   "metadata": {},
   "outputs": [],
   "source": [
    "from sklearn.model_selection import cross_val_score, GridSearchCV, KFold\n",
    "from sklearn.linear_model import LinearRegression, SGDRegressor\n",
    "from sklearn.linear_model import Ridge\n",
    "from sklearn.linear_model import Lasso\n",
    "from sklearn.ensemble import RandomForestRegressor, GradientBoostingRegressor, ExtraTreesRegressor\n",
    "from sklearn.svm import SVR, LinearSVR"
   ]
  },
  {
   "cell_type": "code",
   "execution_count": 14,
   "metadata": {},
   "outputs": [],
   "source": [
    "def rmse_cv(model,X,y):\n",
    "    rmse = np.sqrt(-cross_val_score(model,X,y,scoring=\"neg_mean_squared_error\",cv=3))\n",
    "    return rmse"
   ]
  },
  {
   "cell_type": "code",
   "execution_count": 15,
   "metadata": {},
   "outputs": [],
   "source": [
    "models = [LinearRegression(),Ridge(),Lasso(alpha=0.0005,max_iter=10000),RandomForestRegressor(),SGDRegressor(),\n",
    "          GradientBoostingRegressor(),SVR(),LinearSVR(),ExtraTreesRegressor()]\n",
    "names = [\"LR\", \"Ridge\", \"Lasso\", \"RF\", \"SGD\", \"GBR\", \"SVR\", \"LinSVR\", \"Extra\"]"
   ]
  },
  {
   "cell_type": "code",
   "execution_count": 16,
   "metadata": {},
   "outputs": [],
   "source": [
    "# pca_pro: 是否pca降维处理；pca_n: 特征保留数量\n",
    "def scale_fit_print(data, pca_pro=False, pca_n=300):\n",
    "    scaler = preprocessing.RobustScaler()\n",
    "    n_train = train.shape[0]\n",
    "    X = data[:n_train]\n",
    "    X_test = data[n_train:]\n",
    "    y = train.SalePrice\n",
    "    \n",
    "    X_scaled = scaler.fit(X).transform(X)\n",
    "    y_log = np.log(y)\n",
    "    X_test_scaled = scaler.transform(X_test)\n",
    "    \n",
    "    if(pca_pro==True):\n",
    "        pca = PCA(n_components=pca_n)\n",
    "        X_scaled = pca.fit_transform(X_scaled)\n",
    "        X_test_scaled = pca.transform(X_test_scaled)\n",
    "    \n",
    "    for name, model in zip(names, models):\n",
    "        score = rmse_cv(model, X_scaled, y_log)\n",
    "        print(\"{}: {:.6f}\".format(name, score.mean()))"
   ]
  },
  {
   "cell_type": "code",
   "execution_count": 17,
   "metadata": {
    "scrolled": true
   },
   "outputs": [
    {
     "name": "stdout",
     "output_type": "stream",
     "text": [
      "LR: 0.151452\n",
      "Ridge: 0.142953\n",
      "Lasso: 0.137313\n",
      "RF: 0.155166\n",
      "SGD: 2193169787914716.750000\n",
      "GBR: 0.128823\n",
      "SVR: 0.217860\n",
      "LinSVR: 0.245905\n",
      "Extra: 0.155335\n"
     ]
    }
   ],
   "source": [
    "# 初步拟合结果看，线性回归模型表现还可以\n",
    "scale_fit_print(full2)"
   ]
  },
  {
   "cell_type": "code",
   "execution_count": 81,
   "metadata": {},
   "outputs": [],
   "source": [
    "#pd.set_option('max_rows', 20)\n",
    "#pd.set_option('max_columns', 200)"
   ]
  },
  {
   "cell_type": "markdown",
   "metadata": {},
   "source": [
    "### 2. 特征工程(feature engineering)"
   ]
  },
  {
   "cell_type": "markdown",
   "metadata": {},
   "source": [
    "- **2.1 分箱处理(binning)**\n",
    "    \n",
    "    我们知道在分类问题中，离散化特征可以减小异常数据的干扰，而在回归模型中，离散化的变量经过独热编码(one-hot encoding),每个变量有单独权重，相当于引入非线性。"
   ]
  },
  {
   "cell_type": "code",
   "execution_count": 18,
   "metadata": {},
   "outputs": [],
   "source": [
    "full3 = full.copy()"
   ]
  },
  {
   "cell_type": "code",
   "execution_count": 20,
   "metadata": {
    "scrolled": false
   },
   "outputs": [],
   "source": [
    "# 将离散变量-年份(dtype = int64)转换为dtype-category\n",
    "cols1 = [\"YearBuilt\", \"YearRemodAdd\", \"GarageYrBlt\"]\n",
    "for i in cols1:\n",
    "    full3[i] = pd.cut(full3[i], 5, labels=[i+\"_1\", i+\"_2\", i+\"_3\", i+\"_4\", i+\"_5\"])"
   ]
  },
  {
   "cell_type": "code",
   "execution_count": 21,
   "metadata": {
    "scrolled": true
   },
   "outputs": [],
   "source": [
    "# 选择出dtype = int or float 的columns, 然后将列变量较少的字符化，然后get_dummies()\n",
    "full_number = full[full.dtypes[full.dtypes!=\"object\"].index]\n",
    "a = pd.Series()\n",
    "for i in full_number.columns:\n",
    "    a[i] = pd.Series(full_number[i].value_counts().index).count()\n",
    "\n",
    "num_cols = a[a<=6].index\n",
    "full3[num_cols] = full3[num_cols].astype(str)"
   ]
  },
  {
   "cell_type": "code",
   "execution_count": 22,
   "metadata": {},
   "outputs": [],
   "source": [
    "# 连续数据（列变量大于120）平均分为10箱\n",
    "cols3 = a[a>120].index\n",
    "for i in cols3:\n",
    "    full3[i] = pd.cut(full3[i], 10)"
   ]
  },
  {
   "cell_type": "code",
   "execution_count": 24,
   "metadata": {},
   "outputs": [
    {
     "data": {
      "text/plain": [
       "(2919, 476)"
      ]
     },
     "execution_count": 24,
     "metadata": {},
     "output_type": "execute_result"
    }
   ],
   "source": [
    "full_dummy = pd.get_dummies(full3.drop([\"Id\", \"SalePrice\"],axis=1))\n",
    "full_dummy.shape"
   ]
  },
  {
   "cell_type": "code",
   "execution_count": 25,
   "metadata": {
    "scrolled": false
   },
   "outputs": [
    {
     "name": "stdout",
     "output_type": "stream",
     "text": [
      "LR: 1232004.234848\n",
      "Ridge: 0.137529\n",
      "Lasso: 0.128423\n",
      "RF: 0.164019\n",
      "SGD: 1878481452156363.250000\n",
      "GBR: 0.140707\n",
      "SVR: 0.167453\n",
      "LinSVR: 0.254827\n",
      "Extra: 0.177683\n"
     ]
    }
   ],
   "source": [
    "# 相比于原始处理，分箱后Ridge模型拟合效果有些微提高\n",
    "# 线性回归模型变差（维度灾难？）\n",
    "scale_fit_print(full_dummy)"
   ]
  },
  {
   "cell_type": "code",
   "execution_count": 31,
   "metadata": {
    "scrolled": true
   },
   "outputs": [
    {
     "name": "stdout",
     "output_type": "stream",
     "text": [
      "LR: 0.140608\n",
      "Ridge: 0.139064\n",
      "Lasso: 0.132894\n",
      "RF: 0.186373\n",
      "SGD: 28286084106538.781250\n",
      "GBR: 0.163302\n",
      "SVR: 0.165750\n",
      "LinSVR: 0.725235\n",
      "Extra: 0.178011\n"
     ]
    }
   ],
   "source": [
    "# PCA降维对线性模型有避免维数灾难的效果\n",
    "scale_fit_print(full_dummy, pca_pro=True, pca_n=200)"
   ]
  },
  {
   "cell_type": "markdown",
   "metadata": {},
   "source": [
    "- **2.2 特征组合(feature combination)**\n",
    "    \n",
    "    比如A, B两个特征，线性回归a*A+b*B, 而特征组合加入A^2, B^2, A*B，可以提供非线性。"
   ]
  },
  {
   "cell_type": "code",
   "execution_count": 32,
   "metadata": {},
   "outputs": [],
   "source": [
    "full4 = full.copy()"
   ]
  },
  {
   "cell_type": "code",
   "execution_count": 35,
   "metadata": {
    "scrolled": true
   },
   "outputs": [
    {
     "data": {
      "text/plain": [
       "OverallQual     0.790982\n",
       "GrLivArea       0.708624\n",
       "GarageCars      0.640409\n",
       "GarageArea      0.623431\n",
       "TotalBsmtSF     0.613581\n",
       "1stFlrSF        0.605852\n",
       "FullBath        0.560664\n",
       "TotRmsAbvGrd    0.533723\n",
       "YearBuilt       0.522897\n",
       "YearRemodAdd    0.507101\n",
       "GarageYrBlt     0.486362\n",
       "MasVnrArea      0.477493\n",
       "Fireplaces      0.466929\n",
       "Name: SalePrice, dtype: float64"
      ]
     },
     "execution_count": 35,
     "metadata": {},
     "output_type": "execute_result"
    }
   ],
   "source": [
    "# 通过相关系数矩阵找出与SalePrice相关性较高的特征，进行之后的特征组合\n",
    "corr = train.corr()[\"SalePrice\"].sort_values(ascending=False)\n",
    "corr[1:14]"
   ]
  },
  {
   "cell_type": "code",
   "execution_count": 37,
   "metadata": {
    "scrolled": true
   },
   "outputs": [
    {
     "data": {
      "text/plain": [
       "(2919, 92)"
      ]
     },
     "execution_count": 37,
     "metadata": {},
     "output_type": "execute_result"
    }
   ],
   "source": [
    "poly = preprocessing.PolynomialFeatures(degree=2, interaction_only=True)\n",
    "adding = poly.fit_transform(full4[corr[1:14].index])\n",
    "\n",
    "matrix_add = pd.DataFrame(adding, columns=poly.get_feature_names())\n",
    "matrix_add.shape"
   ]
  },
  {
   "cell_type": "code",
   "execution_count": 39,
   "metadata": {
    "scrolled": true
   },
   "outputs": [
    {
     "data": {
      "text/plain": [
       "(2919, 265)"
      ]
     },
     "execution_count": 39,
     "metadata": {},
     "output_type": "execute_result"
    }
   ],
   "source": [
    "# 将增加的92个特征与原矩阵连接\n",
    "full4 = pd.concat([full4, matrix_add], axis=1)\n",
    "full4.shape"
   ]
  },
  {
   "cell_type": "code",
   "execution_count": 40,
   "metadata": {
    "scrolled": true
   },
   "outputs": [
    {
     "data": {
      "text/plain": [
       "(2919, 486)"
      ]
     },
     "execution_count": 40,
     "metadata": {},
     "output_type": "execute_result"
    }
   ],
   "source": [
    "full_dummy = pd.get_dummies(full4.drop([\"Id\", \"SalePrice\"],axis=1))\n",
    "full_dummy.shape"
   ]
  },
  {
   "cell_type": "code",
   "execution_count": 41,
   "metadata": {
    "scrolled": true
   },
   "outputs": [
    {
     "name": "stdout",
     "output_type": "stream",
     "text": [
      "LR: 0.148936\n",
      "Ridge: 0.128785\n",
      "Lasso: 0.119454\n",
      "RF: 0.152205\n",
      "SGD: 492856126237165.312500\n",
      "GBR: 0.130944\n",
      "SVR: 0.208317\n",
      "LinSVR: 0.379873\n",
      "Extra: 0.147833\n"
     ]
    }
   ],
   "source": [
    "# Lasso模型表现最好\n",
    "scale_fit_print(full_dummy)"
   ]
  },
  {
   "cell_type": "code",
   "execution_count": 45,
   "metadata": {
    "scrolled": true
   },
   "outputs": [
    {
     "name": "stdout",
     "output_type": "stream",
     "text": [
      "LR: 0.148904\n",
      "Ridge: 0.128785\n",
      "Lasso: 0.124062\n",
      "RF: 0.202709\n",
      "SGD: 819967425067572.125000\n",
      "GBR: 0.166980\n",
      "SVR: 0.211705\n",
      "LinSVR: 0.679242\n",
      "Extra: 0.191268\n"
     ]
    }
   ],
   "source": [
    "# PCA未起到优化作用\n",
    "scale_fit_print(full_dummy, pca_pro=True, pca_n=400)"
   ]
  },
  {
   "cell_type": "markdown",
   "metadata": {},
   "source": [
    "**总结与问题：**\n",
    "1. 特征组合对拟合结果非常重要\n",
    "2. PCA降维对线性回归模型有较大提升效果\n",
    "3. SGDRegressor（随机梯度下降回归模型）与参考文章中差别较大，可以继续探究\n",
    "4. dtyep=object的特征也可以进行特征组合，如何筛选相关度高的object特征？LabelEncoder()+相关系数矩阵可能是个办法。\n",
    "\n",
    "参考文章: [kaggle竞赛-房价预测](https://www.cnblogs.com/massquantity/p/8640991.html)\n",
    "感谢博主！"
   ]
  }
 ],
 "metadata": {
  "kernelspec": {
   "display_name": "Python 3",
   "language": "python",
   "name": "python3"
  },
  "language_info": {
   "codemirror_mode": {
    "name": "ipython",
    "version": 3
   },
   "file_extension": ".py",
   "mimetype": "text/x-python",
   "name": "python",
   "nbconvert_exporter": "python",
   "pygments_lexer": "ipython3",
   "version": "3.7.3"
  }
 },
 "nbformat": 4,
 "nbformat_minor": 2
}
